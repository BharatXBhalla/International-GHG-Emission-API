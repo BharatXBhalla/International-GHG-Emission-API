{
  "nbformat": 4,
  "nbformat_minor": 0,
  "metadata": {
    "colab": {
      "name": "Preprocess_Sqlite_DB.ipynb",
      "provenance": [],
      "collapsed_sections": [],
      "authorship_tag": "ABX9TyP0A2Yl4iX8K1cKbJUnJznI",
      "include_colab_link": true
    },
    "kernelspec": {
      "name": "python3",
      "display_name": "Python 3"
    },
    "language_info": {
      "name": "python"
    }
  },
  "cells": [
    {
      "cell_type": "markdown",
      "metadata": {
        "id": "view-in-github",
        "colab_type": "text"
      },
      "source": [
        "<a href=\"https://colab.research.google.com/github/BharatXBhalla/International-GHG-Emission-API/blob/main/Database/Preprocess_Sqlite_DB.ipynb\" target=\"_parent\"><img src=\"https://colab.research.google.com/assets/colab-badge.svg\" alt=\"Open In Colab\"/></a>"
      ]
    },
    {
      "cell_type": "code",
      "execution_count": 224,
      "metadata": {
        "id": "YsPAn5JxG4Lo"
      },
      "outputs": [],
      "source": [
        "import sqlite3\n",
        "from sqlite3 import Error"
      ]
    },
    {
      "cell_type": "code",
      "source": [
        "sqlInfo={\n",
        "    \"tables\":[\"CO2\",\"GHG_Indirect_CO2\",\"GHG\",\"HFC\",\"CH4\",\"HF3\",\"N2O\",\"PFCs\",\"SF6\",\"HFC_Mix_PFC\"],\n",
        "    \"tableQueries\":[\n",
        "'''CREATE TABLE `Countries` (\n",
        "  `id` INTEGER PRIMARY KEY AUTOINCREMENT,\n",
        "  `name` varchar(255),\n",
        "  `start_year` INTEGER,\n",
        "  `end_year` INTEGER\n",
        ");''',\n",
        "\n",
        "'''CREATE TABLE `CO2` (\n",
        "  `country_id` INTEGER,\n",
        "  `year` INTEGER,\n",
        "  `value` real,\n",
        "  FOREIGN KEY(`country_id`) REFERENCES Countries(id)\n",
        ");''',\n",
        "\n",
        "'''CREATE TABLE `GHG_Indirect_CO2` (\n",
        "  `country_id` INTEGER,\n",
        "  `year` INTEGER,\n",
        "  `value` real,\n",
        "  FOREIGN KEY(`country_id`) REFERENCES Countries(id)\n",
        ");''',\n",
        "\n",
        "'''CREATE TABLE `GHG` (\n",
        "  `country_id` INTEGER,\n",
        "  `year` INTEGER,\n",
        "  `value` real,\n",
        "  FOREIGN KEY(`country_id`) REFERENCES Countries(id)\n",
        ");''',\n",
        "\n",
        "'''CREATE TABLE `HFC` (\n",
        "  `country_id` INTEGER,\n",
        "  `year` INTEGER,\n",
        "  `value` real,\n",
        "  FOREIGN KEY(`country_id`) REFERENCES Countries(id)\n",
        ");''',\n",
        "\n",
        "'''CREATE TABLE `CH4` (\n",
        "  `country_id` INTEGER,\n",
        "  `year` INTEGER,\n",
        "  `value` real,\n",
        "  FOREIGN KEY(`country_id`) REFERENCES Countries(id)\n",
        ");''',\n",
        "\n",
        "'''CREATE TABLE `HF3` (\n",
        "  `country_id` INTEGER,\n",
        "  `year` INTEGER,\n",
        "  `value` real,\n",
        "  FOREIGN KEY(`country_id`) REFERENCES Countries(id)\n",
        ");''',\n",
        "\n",
        "'''CREATE TABLE `N2O` (\n",
        "  `country_id` INTEGER,\n",
        "  `year` INTEGER,\n",
        "  `value` real,\n",
        "  FOREIGN KEY(`country_id`) REFERENCES Countries(id)\n",
        ");''',\n",
        "\n",
        "'''CREATE TABLE `PFCs` (\n",
        "  `country_id` INTEGER,\n",
        "  `year` INTEGER,\n",
        "  `value` real,\n",
        "  FOREIGN KEY(`country_id`) REFERENCES Countries(id)\n",
        ");''',\n",
        "\n",
        "'''CREATE TABLE `SF6` (\n",
        "  `country_id` INTEGER,\n",
        "  `year` INTEGER,\n",
        "  `value` real,\n",
        "  FOREIGN KEY(`country_id`) REFERENCES Countries(id)\n",
        ");''',\n",
        "\n",
        "'''CREATE TABLE `HFC_Mix_PFC` (\n",
        "  `country_id` INTEGER,\n",
        "  `year` INTEGER,\n",
        "  `value` real,\n",
        "  FOREIGN KEY(`country_id`) REFERENCES Countries(id)\n",
        ");''']\n",
        "}"
      ],
      "metadata": {
        "id": "vtygXk7OLNw6"
      },
      "execution_count": 225,
      "outputs": []
    },
    {
      "cell_type": "code",
      "source": [
        "preprocess_data_url=\"https://raw.githubusercontent.com/BharatXBhalla/International-GHG-Emission-API/main/EDA/Processed_GHG_Data.csv\""
      ],
      "metadata": {
        "id": "XgJYSh-Rgbmf"
      },
      "execution_count": 226,
      "outputs": []
    },
    {
      "cell_type": "code",
      "source": [
        "database_file_name=\"ghg.db\""
      ],
      "metadata": {
        "id": "J6KweWsohpOg"
      },
      "execution_count": 227,
      "outputs": []
    },
    {
      "cell_type": "code",
      "source": [
        "def createConnection(db_file):\n",
        "    \"\"\" create a database connection to the SQLite database\n",
        "        specified by the db_file\n",
        "    :param db_file: database file\n",
        "    :return: Connection object or None\n",
        "    \"\"\"\n",
        "    conn = None\n",
        "    try:\n",
        "        conn = sqlite3.connect(db_file)\n",
        "    except Error as e:\n",
        "        print(e)\n",
        "\n",
        "    return conn\n",
        "\n",
        "def createTable(connection_obj,query):\n",
        "  # cursor object\n",
        "  cursor_obj = connection_obj.cursor()\n",
        "\n",
        "  # Drop the GEEK table if already exists.\n",
        "  #cursor_obj.execute(\"DROP TABLE IF EXISTS %s\"%tablename)\n",
        "\n",
        "\n",
        "  result=cursor_obj.execute(query)\n",
        "  print(result)\n",
        "  print(\"Table is Ready\")\n",
        "\n",
        "def selectAllTable(connection_obj,table_name,print_rows=False):\n",
        "  cur =connection_obj.cursor()\n",
        "  cur.execute(\"SELECT * FROM %s\"%(table_name))\n",
        "  rows = cur.fetchall()\n",
        "  if print_rows==True:\n",
        "    for row in rows:\n",
        "      print(row)\n",
        "  return rows\n",
        "\n",
        "def insertTable(connection_obj,table_name,value_name,values):\n",
        "\n",
        "  # Creating a cursor object using the\n",
        "  # cursor() method\n",
        "  cursor = connection_obj.cursor()\n",
        "  # Queries to INSERT records.\n",
        "  cursor.execute('''INSERT INTO %s %s VALUES %s;'''%(table_name,value_name,values))\n",
        "  # Commit your changes in the database\t\n",
        "  connection_obj.commit()\n",
        "    "
      ],
      "metadata": {
        "id": "tmwQOntxLnPu"
      },
      "execution_count": 228,
      "outputs": []
    },
    {
      "cell_type": "code",
      "source": [
        "connection_obj = createConnection(database_file_name)"
      ],
      "metadata": {
        "id": "ZeWbISBzaVnG"
      },
      "execution_count": 229,
      "outputs": []
    },
    {
      "cell_type": "code",
      "source": [
        "for table in sqlInfo[\"tableQueries\"]:\n",
        "  createTable(connection_obj,table)"
      ],
      "metadata": {
        "colab": {
          "base_uri": "https://localhost:8080/"
        },
        "id": "ecOC8mKbN-0x",
        "outputId": "5ba2d91f-c165-4ffc-bf6a-1c4751eb5dc6"
      },
      "execution_count": 230,
      "outputs": [
        {
          "output_type": "stream",
          "name": "stdout",
          "text": [
            "<sqlite3.Cursor object at 0x7ff6adc661f0>\n",
            "Table is Ready\n",
            "<sqlite3.Cursor object at 0x7ff6adc661f0>\n",
            "Table is Ready\n",
            "<sqlite3.Cursor object at 0x7ff6adc661f0>\n",
            "Table is Ready\n",
            "<sqlite3.Cursor object at 0x7ff6adc661f0>\n",
            "Table is Ready\n",
            "<sqlite3.Cursor object at 0x7ff6adc661f0>\n",
            "Table is Ready\n",
            "<sqlite3.Cursor object at 0x7ff6adc661f0>\n",
            "Table is Ready\n",
            "<sqlite3.Cursor object at 0x7ff6adc661f0>\n",
            "Table is Ready\n",
            "<sqlite3.Cursor object at 0x7ff6adc661f0>\n",
            "Table is Ready\n",
            "<sqlite3.Cursor object at 0x7ff6adc661f0>\n",
            "Table is Ready\n",
            "<sqlite3.Cursor object at 0x7ff6adc661f0>\n",
            "Table is Ready\n",
            "<sqlite3.Cursor object at 0x7ff6adc661f0>\n",
            "Table is Ready\n"
          ]
        }
      ]
    },
    {
      "cell_type": "code",
      "source": [
        "#insertTable(connection_obj,\"CO2\",\"(country_id,year,value)\",\"('%d',%d,%f)\"%(1,2009,93838.99) )"
      ],
      "metadata": {
        "id": "kShtDr-ndXMy"
      },
      "execution_count": 231,
      "outputs": []
    },
    {
      "cell_type": "code",
      "source": [
        "import pandas as pd"
      ],
      "metadata": {
        "id": "06BDa7OwdtKX"
      },
      "execution_count": 232,
      "outputs": []
    },
    {
      "cell_type": "code",
      "source": [
        "df = pd.read_csv(preprocess_data_url).iloc[:,1:]"
      ],
      "metadata": {
        "id": "c-0vY1XUeJID"
      },
      "execution_count": 233,
      "outputs": []
    },
    {
      "cell_type": "code",
      "source": [
        "df.head()"
      ],
      "metadata": {
        "colab": {
          "base_uri": "https://localhost:8080/",
          "height": 206
        },
        "id": "0m2yCa8BeL2p",
        "outputId": "f4130495-058b-410d-b000-829a40c76715"
      },
      "execution_count": 234,
      "outputs": [
        {
          "output_type": "execute_result",
          "data": {
            "text/html": [
              "\n",
              "  <div id=\"df-63afc1a8-535c-4300-8503-3a0bd288533a\">\n",
              "    <div class=\"colab-df-container\">\n",
              "      <div>\n",
              "<style scoped>\n",
              "    .dataframe tbody tr th:only-of-type {\n",
              "        vertical-align: middle;\n",
              "    }\n",
              "\n",
              "    .dataframe tbody tr th {\n",
              "        vertical-align: top;\n",
              "    }\n",
              "\n",
              "    .dataframe thead th {\n",
              "        text-align: right;\n",
              "    }\n",
              "</style>\n",
              "<table border=\"1\" class=\"dataframe\">\n",
              "  <thead>\n",
              "    <tr style=\"text-align: right;\">\n",
              "      <th></th>\n",
              "      <th>country_or_area</th>\n",
              "      <th>year</th>\n",
              "      <th>value</th>\n",
              "      <th>category</th>\n",
              "      <th>short_category</th>\n",
              "    </tr>\n",
              "  </thead>\n",
              "  <tbody>\n",
              "    <tr>\n",
              "      <th>0</th>\n",
              "      <td>Australia</td>\n",
              "      <td>2014</td>\n",
              "      <td>393126.946994</td>\n",
              "      <td>carbon_dioxide_co2_emissions_without_land_use_...</td>\n",
              "      <td>CO2</td>\n",
              "    </tr>\n",
              "    <tr>\n",
              "      <th>1</th>\n",
              "      <td>Australia</td>\n",
              "      <td>2013</td>\n",
              "      <td>396913.936530</td>\n",
              "      <td>carbon_dioxide_co2_emissions_without_land_use_...</td>\n",
              "      <td>CO2</td>\n",
              "    </tr>\n",
              "    <tr>\n",
              "      <th>2</th>\n",
              "      <td>Australia</td>\n",
              "      <td>2012</td>\n",
              "      <td>406462.847704</td>\n",
              "      <td>carbon_dioxide_co2_emissions_without_land_use_...</td>\n",
              "      <td>CO2</td>\n",
              "    </tr>\n",
              "    <tr>\n",
              "      <th>3</th>\n",
              "      <td>Australia</td>\n",
              "      <td>2011</td>\n",
              "      <td>403705.528314</td>\n",
              "      <td>carbon_dioxide_co2_emissions_without_land_use_...</td>\n",
              "      <td>CO2</td>\n",
              "    </tr>\n",
              "    <tr>\n",
              "      <th>4</th>\n",
              "      <td>Australia</td>\n",
              "      <td>2010</td>\n",
              "      <td>406200.993184</td>\n",
              "      <td>carbon_dioxide_co2_emissions_without_land_use_...</td>\n",
              "      <td>CO2</td>\n",
              "    </tr>\n",
              "  </tbody>\n",
              "</table>\n",
              "</div>\n",
              "      <button class=\"colab-df-convert\" onclick=\"convertToInteractive('df-63afc1a8-535c-4300-8503-3a0bd288533a')\"\n",
              "              title=\"Convert this dataframe to an interactive table.\"\n",
              "              style=\"display:none;\">\n",
              "        \n",
              "  <svg xmlns=\"http://www.w3.org/2000/svg\" height=\"24px\"viewBox=\"0 0 24 24\"\n",
              "       width=\"24px\">\n",
              "    <path d=\"M0 0h24v24H0V0z\" fill=\"none\"/>\n",
              "    <path d=\"M18.56 5.44l.94 2.06.94-2.06 2.06-.94-2.06-.94-.94-2.06-.94 2.06-2.06.94zm-11 1L8.5 8.5l.94-2.06 2.06-.94-2.06-.94L8.5 2.5l-.94 2.06-2.06.94zm10 10l.94 2.06.94-2.06 2.06-.94-2.06-.94-.94-2.06-.94 2.06-2.06.94z\"/><path d=\"M17.41 7.96l-1.37-1.37c-.4-.4-.92-.59-1.43-.59-.52 0-1.04.2-1.43.59L10.3 9.45l-7.72 7.72c-.78.78-.78 2.05 0 2.83L4 21.41c.39.39.9.59 1.41.59.51 0 1.02-.2 1.41-.59l7.78-7.78 2.81-2.81c.8-.78.8-2.07 0-2.86zM5.41 20L4 18.59l7.72-7.72 1.47 1.35L5.41 20z\"/>\n",
              "  </svg>\n",
              "      </button>\n",
              "      \n",
              "  <style>\n",
              "    .colab-df-container {\n",
              "      display:flex;\n",
              "      flex-wrap:wrap;\n",
              "      gap: 12px;\n",
              "    }\n",
              "\n",
              "    .colab-df-convert {\n",
              "      background-color: #E8F0FE;\n",
              "      border: none;\n",
              "      border-radius: 50%;\n",
              "      cursor: pointer;\n",
              "      display: none;\n",
              "      fill: #1967D2;\n",
              "      height: 32px;\n",
              "      padding: 0 0 0 0;\n",
              "      width: 32px;\n",
              "    }\n",
              "\n",
              "    .colab-df-convert:hover {\n",
              "      background-color: #E2EBFA;\n",
              "      box-shadow: 0px 1px 2px rgba(60, 64, 67, 0.3), 0px 1px 3px 1px rgba(60, 64, 67, 0.15);\n",
              "      fill: #174EA6;\n",
              "    }\n",
              "\n",
              "    [theme=dark] .colab-df-convert {\n",
              "      background-color: #3B4455;\n",
              "      fill: #D2E3FC;\n",
              "    }\n",
              "\n",
              "    [theme=dark] .colab-df-convert:hover {\n",
              "      background-color: #434B5C;\n",
              "      box-shadow: 0px 1px 3px 1px rgba(0, 0, 0, 0.15);\n",
              "      filter: drop-shadow(0px 1px 2px rgba(0, 0, 0, 0.3));\n",
              "      fill: #FFFFFF;\n",
              "    }\n",
              "  </style>\n",
              "\n",
              "      <script>\n",
              "        const buttonEl =\n",
              "          document.querySelector('#df-63afc1a8-535c-4300-8503-3a0bd288533a button.colab-df-convert');\n",
              "        buttonEl.style.display =\n",
              "          google.colab.kernel.accessAllowed ? 'block' : 'none';\n",
              "\n",
              "        async function convertToInteractive(key) {\n",
              "          const element = document.querySelector('#df-63afc1a8-535c-4300-8503-3a0bd288533a');\n",
              "          const dataTable =\n",
              "            await google.colab.kernel.invokeFunction('convertToInteractive',\n",
              "                                                     [key], {});\n",
              "          if (!dataTable) return;\n",
              "\n",
              "          const docLinkHtml = 'Like what you see? Visit the ' +\n",
              "            '<a target=\"_blank\" href=https://colab.research.google.com/notebooks/data_table.ipynb>data table notebook</a>'\n",
              "            + ' to learn more about interactive tables.';\n",
              "          element.innerHTML = '';\n",
              "          dataTable['output_type'] = 'display_data';\n",
              "          await google.colab.output.renderOutput(dataTable, element);\n",
              "          const docLink = document.createElement('div');\n",
              "          docLink.innerHTML = docLinkHtml;\n",
              "          element.appendChild(docLink);\n",
              "        }\n",
              "      </script>\n",
              "    </div>\n",
              "  </div>\n",
              "  "
            ],
            "text/plain": [
              "  country_or_area  ...  short_category\n",
              "0       Australia  ...             CO2\n",
              "1       Australia  ...             CO2\n",
              "2       Australia  ...             CO2\n",
              "3       Australia  ...             CO2\n",
              "4       Australia  ...             CO2\n",
              "\n",
              "[5 rows x 5 columns]"
            ]
          },
          "metadata": {},
          "execution_count": 234
        }
      ]
    },
    {
      "cell_type": "code",
      "source": [
        "df.short_category.unique()"
      ],
      "metadata": {
        "colab": {
          "base_uri": "https://localhost:8080/"
        },
        "id": "Cc6xx-zrfdfF",
        "outputId": "b29a8fb7-535f-4f95-a834-bcb3ad2f489a"
      },
      "execution_count": 235,
      "outputs": [
        {
          "output_type": "execute_result",
          "data": {
            "text/plain": [
              "array(['CO2', 'GHG_Indirect_CO2', 'GHG', 'HFC', 'CH4', 'HF3', 'N2O',\n",
              "       'PFCs', 'SF6', 'HFC_Mix_PFC'], dtype=object)"
            ]
          },
          "metadata": {},
          "execution_count": 235
        }
      ]
    },
    {
      "cell_type": "code",
      "source": [
        "def insertCountry(df,database_file_name):\n",
        "  connection_obj = createConnection(database_file_name)\n",
        "  g=df.groupby(\"country_or_area\")\n",
        "  startYear=g.year.min()\n",
        "  endYear=g.year.max()\n",
        "  for country in df[\"country_or_area\"].unique():\n",
        "    insertTable(connection_obj,\"Countries\",\"(name,start_year,end_year)\",\"('%s',%d,%d)\"%(country,startYear[country],endYear[country]) )\n",
        "  connection_obj.close()"
      ],
      "metadata": {
        "id": "_m5URrSDgCli"
      },
      "execution_count": 236,
      "outputs": []
    },
    {
      "cell_type": "code",
      "source": [
        "def insertEmissions(df,database_file_name,country_mapping):\n",
        "  connection_obj = createConnection(database_file_name)\n",
        "  for i in df.values:\n",
        "    insertTable(connection_obj,i[4],\"(country_id,year,value)\",\"('%d',%d,%f)\"%(country_mapping[i[0]],i[1],i[2]) )\n",
        "  \n",
        "  connection_obj.close()"
      ],
      "metadata": {
        "id": "LV-HiI9_nz97"
      },
      "execution_count": 237,
      "outputs": []
    },
    {
      "cell_type": "code",
      "source": [
        "insertCountry(df,database_file_name)"
      ],
      "metadata": {
        "id": "2N2pz13Dg_c2"
      },
      "execution_count": 238,
      "outputs": []
    },
    {
      "cell_type": "code",
      "source": [
        "countries=dict([(i[1],i[0]) for i in selectAllTable(connection_obj,\"Countries\")])"
      ],
      "metadata": {
        "id": "YqkpRFH6inhE"
      },
      "execution_count": 239,
      "outputs": []
    },
    {
      "cell_type": "code",
      "source": [
        "insertEmissions(df,database_file_name,countries)"
      ],
      "metadata": {
        "id": "iHumBsBCnsfp"
      },
      "execution_count": 240,
      "outputs": []
    },
    {
      "cell_type": "code",
      "source": [
        "df[\"short_category\"].value_counts()"
      ],
      "metadata": {
        "colab": {
          "base_uri": "https://localhost:8080/"
        },
        "id": "q38UQt3MpbHt",
        "outputId": "51897b54-8394-4710-fe79-ddfb1f971ca7"
      },
      "execution_count": 241,
      "outputs": [
        {
          "output_type": "execute_result",
          "data": {
            "text/plain": [
              "CO2                 1074\n",
              "GHG                 1074\n",
              "CH4                 1074\n",
              "N2O                 1074\n",
              "SF6                 1032\n",
              "HFC                  975\n",
              "GHG_Indirect_CO2     949\n",
              "PFCs                 831\n",
              "HF3                  248\n",
              "HFC_Mix_PFC           75\n",
              "Name: short_category, dtype: int64"
            ]
          },
          "metadata": {},
          "execution_count": 241
        }
      ]
    },
    {
      "cell_type": "code",
      "source": [
        "for i in df[\"short_category\"].value_counts().index:\n",
        "  f=selectAllTable(connection_obj,i)\n",
        "  print(len(f))"
      ],
      "metadata": {
        "colab": {
          "base_uri": "https://localhost:8080/"
        },
        "id": "c64tsZ5XpVSR",
        "outputId": "01cbab84-0f10-418a-bc30-c44addb66230"
      },
      "execution_count": 242,
      "outputs": [
        {
          "output_type": "stream",
          "name": "stdout",
          "text": [
            "1074\n",
            "1074\n",
            "1074\n",
            "1074\n",
            "1032\n",
            "975\n",
            "949\n",
            "831\n",
            "248\n",
            "75\n"
          ]
        }
      ]
    },
    {
      "cell_type": "code",
      "source": [
        "connection_obj.close()"
      ],
      "metadata": {
        "id": "BUtd2QMoj3gm"
      },
      "execution_count": 243,
      "outputs": []
    },
    {
      "cell_type": "code",
      "source": [
        ""
      ],
      "metadata": {
        "id": "uGrHzg1Xmk02"
      },
      "execution_count": 243,
      "outputs": []
    }
  ]
}