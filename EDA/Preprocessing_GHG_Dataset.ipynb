{
  "nbformat": 4,
  "nbformat_minor": 0,
  "metadata": {
    "colab": {
      "name": "Preprocessing_GHG_Dataset.ipynb",
      "provenance": [],
      "collapsed_sections": [],
      "authorship_tag": "ABX9TyOdo+iUUOJGytVZKVCZOAQu",
      "include_colab_link": true
    },
    "kernelspec": {
      "name": "python3",
      "display_name": "Python 3"
    },
    "language_info": {
      "name": "python"
    }
  },
  "cells": [
    {
      "cell_type": "markdown",
      "metadata": {
        "id": "view-in-github",
        "colab_type": "text"
      },
      "source": [
        "<a href=\"https://colab.research.google.com/github/BharatXBhalla/International-GHG-Emission-API/blob/main/EDA/Preprocessing_GHG_Dataset.ipynb\" target=\"_parent\"><img src=\"https://colab.research.google.com/assets/colab-badge.svg\" alt=\"Open In Colab\"/></a>"
      ]
    },
    {
      "cell_type": "code",
      "execution_count": 8,
      "metadata": {
        "colab": {
          "base_uri": "https://localhost:8080/"
        },
        "id": "jGNIYNE04BNP",
        "outputId": "cedf7e7f-890c-401c-cabe-eb643790f424"
      },
      "outputs": [
        {
          "output_type": "stream",
          "name": "stdout",
          "text": [
            "Requirement already satisfied: kaggle in /usr/local/lib/python3.7/dist-packages (1.5.12)\n",
            "Requirement already satisfied: tqdm in /usr/local/lib/python3.7/dist-packages (from kaggle) (4.62.3)\n",
            "Requirement already satisfied: python-slugify in /usr/local/lib/python3.7/dist-packages (from kaggle) (6.0.1)\n",
            "Requirement already satisfied: requests in /usr/local/lib/python3.7/dist-packages (from kaggle) (2.23.0)\n",
            "Requirement already satisfied: python-dateutil in /usr/local/lib/python3.7/dist-packages (from kaggle) (2.8.2)\n",
            "Requirement already satisfied: certifi in /usr/local/lib/python3.7/dist-packages (from kaggle) (2021.10.8)\n",
            "Requirement already satisfied: urllib3 in /usr/local/lib/python3.7/dist-packages (from kaggle) (1.24.3)\n",
            "Requirement already satisfied: six>=1.10 in /usr/local/lib/python3.7/dist-packages (from kaggle) (1.15.0)\n",
            "Requirement already satisfied: text-unidecode>=1.3 in /usr/local/lib/python3.7/dist-packages (from python-slugify->kaggle) (1.3)\n",
            "Requirement already satisfied: chardet<4,>=3.0.2 in /usr/local/lib/python3.7/dist-packages (from requests->kaggle) (3.0.4)\n",
            "Requirement already satisfied: idna<3,>=2.5 in /usr/local/lib/python3.7/dist-packages (from requests->kaggle) (2.10)\n"
          ]
        }
      ],
      "source": [
        "! pip install kaggle"
      ]
    },
    {
      "cell_type": "code",
      "source": [
        "! mkdir ~/.kaggle"
      ],
      "metadata": {
        "colab": {
          "base_uri": "https://localhost:8080/"
        },
        "id": "QELsOE184bO-",
        "outputId": "b69839ac-6f7a-4b4e-fabd-93770929f78e"
      },
      "execution_count": 4,
      "outputs": [
        {
          "output_type": "stream",
          "name": "stdout",
          "text": [
            "mkdir: cannot create directory ‘/root/.kaggle’: File exists\n"
          ]
        }
      ]
    },
    {
      "cell_type": "code",
      "source": [
        "! cp kaggle.json ~/.kaggle/"
      ],
      "metadata": {
        "id": "AHE6zywN4eCO"
      },
      "execution_count": 5,
      "outputs": []
    },
    {
      "cell_type": "code",
      "source": [
        "! chmod 600 ~/.kaggle/kaggle.json"
      ],
      "metadata": {
        "id": "nHzu6cEX4h0a"
      },
      "execution_count": 6,
      "outputs": []
    },
    {
      "cell_type": "code",
      "source": [
        "! kaggle datasets download -d unitednations/international-greenhouse-gas-emissions"
      ],
      "metadata": {
        "colab": {
          "base_uri": "https://localhost:8080/"
        },
        "id": "psV_jYGL4iMq",
        "outputId": "5ff5c80f-22e3-4809-ef05-4b15fcbfe72b"
      },
      "execution_count": 11,
      "outputs": [
        {
          "output_type": "stream",
          "name": "stdout",
          "text": [
            "Downloading international-greenhouse-gas-emissions.zip to /content\n",
            "\r  0% 0.00/107k [00:00<?, ?B/s]\n",
            "\r100% 107k/107k [00:00<00:00, 42.9MB/s]\n"
          ]
        }
      ]
    },
    {
      "cell_type": "code",
      "source": [
        "!unzip international-greenhouse-gas-emissions.zip"
      ],
      "metadata": {
        "colab": {
          "base_uri": "https://localhost:8080/"
        },
        "id": "5YVEss0M5Otq",
        "outputId": "15fbc434-6347-4b46-ee3e-6af969a6e9b0"
      },
      "execution_count": 12,
      "outputs": [
        {
          "output_type": "stream",
          "name": "stdout",
          "text": [
            "Archive:  international-greenhouse-gas-emissions.zip\n",
            "  inflating: greenhouse_gas_inventory_data_data.csv  \n"
          ]
        }
      ]
    },
    {
      "cell_type": "code",
      "source": [
        "filename=\"greenhouse_gas_inventory_data_data.csv\""
      ],
      "metadata": {
        "id": "vBGdk-jV5eha"
      },
      "execution_count": 16,
      "outputs": []
    },
    {
      "cell_type": "code",
      "source": [
        "import pandas as pd\n",
        "import numpy as np"
      ],
      "metadata": {
        "id": "XZDXO5mo5lo3"
      },
      "execution_count": 14,
      "outputs": []
    },
    {
      "cell_type": "code",
      "source": [
        "df = pd.read_csv(filename)"
      ],
      "metadata": {
        "id": "TksPQ0r25sZS"
      },
      "execution_count": 17,
      "outputs": []
    },
    {
      "cell_type": "code",
      "source": [
        "df.head()"
      ],
      "metadata": {
        "colab": {
          "base_uri": "https://localhost:8080/",
          "height": 206
        },
        "id": "uQMT-cSb5vY5",
        "outputId": "7e60f4c9-2cb7-408f-9b4c-08d377628f20"
      },
      "execution_count": 18,
      "outputs": [
        {
          "output_type": "execute_result",
          "data": {
            "text/html": [
              "\n",
              "  <div id=\"df-4d43c867-33f2-4da4-bbe2-050b7ce60c02\">\n",
              "    <div class=\"colab-df-container\">\n",
              "      <div>\n",
              "<style scoped>\n",
              "    .dataframe tbody tr th:only-of-type {\n",
              "        vertical-align: middle;\n",
              "    }\n",
              "\n",
              "    .dataframe tbody tr th {\n",
              "        vertical-align: top;\n",
              "    }\n",
              "\n",
              "    .dataframe thead th {\n",
              "        text-align: right;\n",
              "    }\n",
              "</style>\n",
              "<table border=\"1\" class=\"dataframe\">\n",
              "  <thead>\n",
              "    <tr style=\"text-align: right;\">\n",
              "      <th></th>\n",
              "      <th>country_or_area</th>\n",
              "      <th>year</th>\n",
              "      <th>value</th>\n",
              "      <th>category</th>\n",
              "    </tr>\n",
              "  </thead>\n",
              "  <tbody>\n",
              "    <tr>\n",
              "      <th>0</th>\n",
              "      <td>Australia</td>\n",
              "      <td>2014</td>\n",
              "      <td>393126.946994</td>\n",
              "      <td>carbon_dioxide_co2_emissions_without_land_use_...</td>\n",
              "    </tr>\n",
              "    <tr>\n",
              "      <th>1</th>\n",
              "      <td>Australia</td>\n",
              "      <td>2013</td>\n",
              "      <td>396913.936530</td>\n",
              "      <td>carbon_dioxide_co2_emissions_without_land_use_...</td>\n",
              "    </tr>\n",
              "    <tr>\n",
              "      <th>2</th>\n",
              "      <td>Australia</td>\n",
              "      <td>2012</td>\n",
              "      <td>406462.847704</td>\n",
              "      <td>carbon_dioxide_co2_emissions_without_land_use_...</td>\n",
              "    </tr>\n",
              "    <tr>\n",
              "      <th>3</th>\n",
              "      <td>Australia</td>\n",
              "      <td>2011</td>\n",
              "      <td>403705.528314</td>\n",
              "      <td>carbon_dioxide_co2_emissions_without_land_use_...</td>\n",
              "    </tr>\n",
              "    <tr>\n",
              "      <th>4</th>\n",
              "      <td>Australia</td>\n",
              "      <td>2010</td>\n",
              "      <td>406200.993184</td>\n",
              "      <td>carbon_dioxide_co2_emissions_without_land_use_...</td>\n",
              "    </tr>\n",
              "  </tbody>\n",
              "</table>\n",
              "</div>\n",
              "      <button class=\"colab-df-convert\" onclick=\"convertToInteractive('df-4d43c867-33f2-4da4-bbe2-050b7ce60c02')\"\n",
              "              title=\"Convert this dataframe to an interactive table.\"\n",
              "              style=\"display:none;\">\n",
              "        \n",
              "  <svg xmlns=\"http://www.w3.org/2000/svg\" height=\"24px\"viewBox=\"0 0 24 24\"\n",
              "       width=\"24px\">\n",
              "    <path d=\"M0 0h24v24H0V0z\" fill=\"none\"/>\n",
              "    <path d=\"M18.56 5.44l.94 2.06.94-2.06 2.06-.94-2.06-.94-.94-2.06-.94 2.06-2.06.94zm-11 1L8.5 8.5l.94-2.06 2.06-.94-2.06-.94L8.5 2.5l-.94 2.06-2.06.94zm10 10l.94 2.06.94-2.06 2.06-.94-2.06-.94-.94-2.06-.94 2.06-2.06.94z\"/><path d=\"M17.41 7.96l-1.37-1.37c-.4-.4-.92-.59-1.43-.59-.52 0-1.04.2-1.43.59L10.3 9.45l-7.72 7.72c-.78.78-.78 2.05 0 2.83L4 21.41c.39.39.9.59 1.41.59.51 0 1.02-.2 1.41-.59l7.78-7.78 2.81-2.81c.8-.78.8-2.07 0-2.86zM5.41 20L4 18.59l7.72-7.72 1.47 1.35L5.41 20z\"/>\n",
              "  </svg>\n",
              "      </button>\n",
              "      \n",
              "  <style>\n",
              "    .colab-df-container {\n",
              "      display:flex;\n",
              "      flex-wrap:wrap;\n",
              "      gap: 12px;\n",
              "    }\n",
              "\n",
              "    .colab-df-convert {\n",
              "      background-color: #E8F0FE;\n",
              "      border: none;\n",
              "      border-radius: 50%;\n",
              "      cursor: pointer;\n",
              "      display: none;\n",
              "      fill: #1967D2;\n",
              "      height: 32px;\n",
              "      padding: 0 0 0 0;\n",
              "      width: 32px;\n",
              "    }\n",
              "\n",
              "    .colab-df-convert:hover {\n",
              "      background-color: #E2EBFA;\n",
              "      box-shadow: 0px 1px 2px rgba(60, 64, 67, 0.3), 0px 1px 3px 1px rgba(60, 64, 67, 0.15);\n",
              "      fill: #174EA6;\n",
              "    }\n",
              "\n",
              "    [theme=dark] .colab-df-convert {\n",
              "      background-color: #3B4455;\n",
              "      fill: #D2E3FC;\n",
              "    }\n",
              "\n",
              "    [theme=dark] .colab-df-convert:hover {\n",
              "      background-color: #434B5C;\n",
              "      box-shadow: 0px 1px 3px 1px rgba(0, 0, 0, 0.15);\n",
              "      filter: drop-shadow(0px 1px 2px rgba(0, 0, 0, 0.3));\n",
              "      fill: #FFFFFF;\n",
              "    }\n",
              "  </style>\n",
              "\n",
              "      <script>\n",
              "        const buttonEl =\n",
              "          document.querySelector('#df-4d43c867-33f2-4da4-bbe2-050b7ce60c02 button.colab-df-convert');\n",
              "        buttonEl.style.display =\n",
              "          google.colab.kernel.accessAllowed ? 'block' : 'none';\n",
              "\n",
              "        async function convertToInteractive(key) {\n",
              "          const element = document.querySelector('#df-4d43c867-33f2-4da4-bbe2-050b7ce60c02');\n",
              "          const dataTable =\n",
              "            await google.colab.kernel.invokeFunction('convertToInteractive',\n",
              "                                                     [key], {});\n",
              "          if (!dataTable) return;\n",
              "\n",
              "          const docLinkHtml = 'Like what you see? Visit the ' +\n",
              "            '<a target=\"_blank\" href=https://colab.research.google.com/notebooks/data_table.ipynb>data table notebook</a>'\n",
              "            + ' to learn more about interactive tables.';\n",
              "          element.innerHTML = '';\n",
              "          dataTable['output_type'] = 'display_data';\n",
              "          await google.colab.output.renderOutput(dataTable, element);\n",
              "          const docLink = document.createElement('div');\n",
              "          docLink.innerHTML = docLinkHtml;\n",
              "          element.appendChild(docLink);\n",
              "        }\n",
              "      </script>\n",
              "    </div>\n",
              "  </div>\n",
              "  "
            ],
            "text/plain": [
              "  country_or_area  ...                                           category\n",
              "0       Australia  ...  carbon_dioxide_co2_emissions_without_land_use_...\n",
              "1       Australia  ...  carbon_dioxide_co2_emissions_without_land_use_...\n",
              "2       Australia  ...  carbon_dioxide_co2_emissions_without_land_use_...\n",
              "3       Australia  ...  carbon_dioxide_co2_emissions_without_land_use_...\n",
              "4       Australia  ...  carbon_dioxide_co2_emissions_without_land_use_...\n",
              "\n",
              "[5 rows x 4 columns]"
            ]
          },
          "metadata": {},
          "execution_count": 18
        }
      ]
    },
    {
      "cell_type": "code",
      "source": [
        "df.info()"
      ],
      "metadata": {
        "colab": {
          "base_uri": "https://localhost:8080/"
        },
        "id": "OBSnhiO7519y",
        "outputId": "678d9110-d1d2-4d5e-9c3b-4a2a5cc79d0f"
      },
      "execution_count": 20,
      "outputs": [
        {
          "output_type": "stream",
          "name": "stdout",
          "text": [
            "<class 'pandas.core.frame.DataFrame'>\n",
            "RangeIndex: 8406 entries, 0 to 8405\n",
            "Data columns (total 4 columns):\n",
            " #   Column           Non-Null Count  Dtype  \n",
            "---  ------           --------------  -----  \n",
            " 0   country_or_area  8406 non-null   object \n",
            " 1   year             8406 non-null   int64  \n",
            " 2   value            8406 non-null   float64\n",
            " 3   category         8406 non-null   object \n",
            "dtypes: float64(1), int64(1), object(2)\n",
            "memory usage: 262.8+ KB\n"
          ]
        }
      ]
    },
    {
      "cell_type": "code",
      "source": [
        "df[\"country_or_area\"].value_counts()"
      ],
      "metadata": {
        "colab": {
          "base_uri": "https://localhost:8080/"
        },
        "id": "8xPj_7ye54ab",
        "outputId": "ac9ab1ae-b92a-4b47-d9a5-8716bc6b3f50"
      },
      "execution_count": 26,
      "outputs": [
        {
          "output_type": "execute_result",
          "data": {
            "text/plain": [
              "United States of America    250\n",
              "European Union              250\n",
              "Germany                     250\n",
              "Japan                       225\n",
              "France                      225\n",
              "Canada                      223\n",
              "Austria                     221\n",
              "Italy                       217\n",
              "Ireland                     216\n",
              "Switzerland                 207\n",
              "Belgium                     205\n",
              "Norway                      200\n",
              "Netherlands                 200\n",
              "Russian Federation          200\n",
              "Sweden                      200\n",
              "United Kingdom              200\n",
              "Romania                     200\n",
              "Australia                   200\n",
              "Greece                      200\n",
              "Finland                     200\n",
              "New Zealand                 198\n",
              "Hungary                     198\n",
              "Iceland                     197\n",
              "Slovakia                    196\n",
              "Slovenia                    195\n",
              "Denmark                     194\n",
              "Czech Republic              193\n",
              "Poland                      191\n",
              "Ukraine                     189\n",
              "Portugal                    183\n",
              "Malta                       179\n",
              "Croatia                     178\n",
              "Monaco                      177\n",
              "Estonia                     175\n",
              "Cyprus                      175\n",
              "Spain                       175\n",
              "Turkey                      174\n",
              "Lithuania                   169\n",
              "Liechtenstein               165\n",
              "Latvia                      165\n",
              "Bulgaria                    156\n",
              "Luxembourg                  150\n",
              "Belarus                     145\n",
              "Name: country_or_area, dtype: int64"
            ]
          },
          "metadata": {},
          "execution_count": 26
        }
      ]
    },
    {
      "cell_type": "code",
      "source": [
        "df[df[\"country_or_area\"]==\"Belarus\"].sort_values(\"year\").year"
      ],
      "metadata": {
        "colab": {
          "base_uri": "https://localhost:8080/"
        },
        "id": "_cWq3NSa7ges",
        "outputId": "cf7e1389-19cb-435b-80f0-81990b4841b1"
      },
      "execution_count": 53,
      "outputs": [
        {
          "output_type": "execute_result",
          "data": {
            "text/plain": [
              "5468    1990\n",
              "74      1990\n",
              "4146    1990\n",
              "1148    1990\n",
              "2097    1990\n",
              "        ... \n",
              "2073    2014\n",
              "1124    2014\n",
              "7349    2014\n",
              "5444    2014\n",
              "50      2014\n",
              "Name: year, Length: 145, dtype: int64"
            ]
          },
          "metadata": {},
          "execution_count": 53
        }
      ]
    },
    {
      "cell_type": "code",
      "source": [
        "df[df[\"country_or_area\"]==\"United States of America\"].year"
      ],
      "metadata": {
        "colab": {
          "base_uri": "https://localhost:8080/"
        },
        "id": "8eSFILWa6AV1",
        "outputId": "4ec846c6-83a2-4378-8f1e-9cce52a6b28a"
      },
      "execution_count": 41,
      "outputs": [
        {
          "output_type": "execute_result",
          "data": {
            "text/plain": [
              "1049    2014\n",
              "1050    2013\n",
              "1051    2012\n",
              "1052    2011\n",
              "1053    2010\n",
              "        ... \n",
              "8401    1994\n",
              "8402    1993\n",
              "8403    1992\n",
              "8404    1991\n",
              "8405    1990\n",
              "Name: year, Length: 250, dtype: int64"
            ]
          },
          "metadata": {},
          "execution_count": 41
        }
      ]
    },
    {
      "cell_type": "code",
      "source": [
        "df.groupby(\"country_or_area\")[\"year\"].min()"
      ],
      "metadata": {
        "colab": {
          "base_uri": "https://localhost:8080/"
        },
        "id": "V-1R2YcC6S3a",
        "outputId": "44b26390-dbe4-4343-800d-f95092192877"
      },
      "execution_count": 54,
      "outputs": [
        {
          "output_type": "execute_result",
          "data": {
            "text/plain": [
              "country_or_area\n",
              "Australia                   1990\n",
              "Austria                     1990\n",
              "Belarus                     1990\n",
              "Belgium                     1990\n",
              "Bulgaria                    1990\n",
              "Canada                      1990\n",
              "Croatia                     1990\n",
              "Cyprus                      1990\n",
              "Czech Republic              1990\n",
              "Denmark                     1990\n",
              "Estonia                     1990\n",
              "European Union              1990\n",
              "Finland                     1990\n",
              "France                      1990\n",
              "Germany                     1990\n",
              "Greece                      1990\n",
              "Hungary                     1990\n",
              "Iceland                     1990\n",
              "Ireland                     1990\n",
              "Italy                       1990\n",
              "Japan                       1990\n",
              "Latvia                      1990\n",
              "Liechtenstein               1990\n",
              "Lithuania                   1990\n",
              "Luxembourg                  1990\n",
              "Malta                       1990\n",
              "Monaco                      1990\n",
              "Netherlands                 1990\n",
              "New Zealand                 1990\n",
              "Norway                      1990\n",
              "Poland                      1990\n",
              "Portugal                    1990\n",
              "Romania                     1990\n",
              "Russian Federation          1990\n",
              "Slovakia                    1990\n",
              "Slovenia                    1990\n",
              "Spain                       1990\n",
              "Sweden                      1990\n",
              "Switzerland                 1990\n",
              "Turkey                      1990\n",
              "Ukraine                     1990\n",
              "United Kingdom              1990\n",
              "United States of America    1990\n",
              "Name: year, dtype: int64"
            ]
          },
          "metadata": {},
          "execution_count": 54
        }
      ]
    },
    {
      "cell_type": "code",
      "source": [
        "df.isna().any()"
      ],
      "metadata": {
        "colab": {
          "base_uri": "https://localhost:8080/"
        },
        "id": "gWminHEs6kfu",
        "outputId": "c84d0d99-4e8a-4a77-b531-c04d3fe8ce5e"
      },
      "execution_count": 32,
      "outputs": [
        {
          "output_type": "execute_result",
          "data": {
            "text/plain": [
              "country_or_area    False\n",
              "year               False\n",
              "value              False\n",
              "category           False\n",
              "dtype: bool"
            ]
          },
          "metadata": {},
          "execution_count": 32
        }
      ]
    },
    {
      "cell_type": "code",
      "source": [
        "df.isna().any(axis=1)"
      ],
      "metadata": {
        "colab": {
          "base_uri": "https://localhost:8080/"
        },
        "id": "0a6A9yOZ6zZ1",
        "outputId": "232200b0-81cf-4acf-8792-8697cf0699da"
      },
      "execution_count": 34,
      "outputs": [
        {
          "output_type": "execute_result",
          "data": {
            "text/plain": [
              "0       False\n",
              "1       False\n",
              "2       False\n",
              "3       False\n",
              "4       False\n",
              "        ...  \n",
              "8401    False\n",
              "8402    False\n",
              "8403    False\n",
              "8404    False\n",
              "8405    False\n",
              "Length: 8406, dtype: bool"
            ]
          },
          "metadata": {},
          "execution_count": 34
        }
      ]
    },
    {
      "cell_type": "code",
      "source": [
        "df[\"category\"].unique()"
      ],
      "metadata": {
        "colab": {
          "base_uri": "https://localhost:8080/"
        },
        "id": "eOTjFvjD_4C3",
        "outputId": "696fa9e5-3dfe-4f43-b126-e5ec8b1d7d8e"
      },
      "execution_count": 55,
      "outputs": [
        {
          "output_type": "execute_result",
          "data": {
            "text/plain": [
              "array(['carbon_dioxide_co2_emissions_without_land_use_land_use_change_and_forestry_lulucf_in_kilotonne_co2_equivalent',\n",
              "       'greenhouse_gas_ghgs_emissions_including_indirect_co2_without_lulucf_in_kilotonne_co2_equivalent',\n",
              "       'greenhouse_gas_ghgs_emissions_without_land_use_land_use_change_and_forestry_lulucf_in_kilotonne_co2_equivalent',\n",
              "       'hydrofluorocarbons_hfcs_emissions_in_kilotonne_co2_equivalent',\n",
              "       'methane_ch4_emissions_without_land_use_land_use_change_and_forestry_lulucf_in_kilotonne_co2_equivalent',\n",
              "       'nitrogen_trifluoride_nf3_emissions_in_kilotonne_co2_equivalent',\n",
              "       'nitrous_oxide_n2o_emissions_without_land_use_land_use_change_and_forestry_lulucf_in_kilotonne_co2_equivalent',\n",
              "       'perfluorocarbons_pfcs_emissions_in_kilotonne_co2_equivalent',\n",
              "       'sulphur_hexafluoride_sf6_emissions_in_kilotonne_co2_equivalent',\n",
              "       'unspecified_mix_of_hydrofluorocarbons_hfcs_and_perfluorocarbons_pfcs_emissions_in_kilotonne_co2_equivalent'],\n",
              "      dtype=object)"
            ]
          },
          "metadata": {},
          "execution_count": 55
        }
      ]
    },
    {
      "cell_type": "code",
      "source": [
        "df[\"category\"].value_counts()"
      ],
      "metadata": {
        "colab": {
          "base_uri": "https://localhost:8080/"
        },
        "id": "B1HcwmMqAAR1",
        "outputId": "b2773c78-e021-4ffb-8d1c-e88c2746855a"
      },
      "execution_count": 57,
      "outputs": [
        {
          "output_type": "execute_result",
          "data": {
            "text/plain": [
              "carbon_dioxide_co2_emissions_without_land_use_land_use_change_and_forestry_lulucf_in_kilotonne_co2_equivalent     1074\n",
              "greenhouse_gas_ghgs_emissions_without_land_use_land_use_change_and_forestry_lulucf_in_kilotonne_co2_equivalent    1074\n",
              "methane_ch4_emissions_without_land_use_land_use_change_and_forestry_lulucf_in_kilotonne_co2_equivalent            1074\n",
              "nitrous_oxide_n2o_emissions_without_land_use_land_use_change_and_forestry_lulucf_in_kilotonne_co2_equivalent      1074\n",
              "sulphur_hexafluoride_sf6_emissions_in_kilotonne_co2_equivalent                                                    1032\n",
              "hydrofluorocarbons_hfcs_emissions_in_kilotonne_co2_equivalent                                                      975\n",
              "greenhouse_gas_ghgs_emissions_including_indirect_co2_without_lulucf_in_kilotonne_co2_equivalent                    949\n",
              "perfluorocarbons_pfcs_emissions_in_kilotonne_co2_equivalent                                                        831\n",
              "nitrogen_trifluoride_nf3_emissions_in_kilotonne_co2_equivalent                                                     248\n",
              "unspecified_mix_of_hydrofluorocarbons_hfcs_and_perfluorocarbons_pfcs_emissions_in_kilotonne_co2_equivalent          75\n",
              "Name: category, dtype: int64"
            ]
          },
          "metadata": {},
          "execution_count": 57
        }
      ]
    },
    {
      "cell_type": "markdown",
      "source": [
        "### Conclusion\n",
        "\n",
        "There are no NaN Values.\n",
        "\n",
        "Catergory needs to be mapped to memonics\n",
        "\n",
        "Manco country latest year info avaiable is for 2013"
      ],
      "metadata": {
        "id": "xnp2FxWj7AdG"
      }
    },
    {
      "cell_type": "code",
      "source": [
        "category_mappings = {\n",
        "    \"carbon_dioxide_co2_emissions_without_land_use_land_use_change_and_forestry_lulucf_in_kilotonne_co2_equivalent\":'CO2',\n",
        "\"greenhouse_gas_ghgs_emissions_including_indirect_co2_without_lulucf_in_kilotonne_co2_equivalent\":'GHG_Indirect_CO2',\n",
        "\"greenhouse_gas_ghgs_emissions_without_land_use_land_use_change_and_forestry_lulucf_in_kilotonne_co2_equivalent\":'GHG',\n",
        "\"hydrofluorocarbons_hfcs_emissions_in_kilotonne_co2_equivalent\":'HFC',\n",
        "\"methane_ch4_emissions_without_land_use_land_use_change_and_forestry_lulucf_in_kilotonne_co2_equivalent\":'CH4',\n",
        "\"nitrogen_trifluoride_nf3_emissions_in_kilotonne_co2_equivalent\":'HF3',\n",
        "\"nitrous_oxide_n2o_emissions_without_land_use_land_use_change_and_forestry_lulucf_in_kilotonne_co2_equivalent\":'N2O',\n",
        "\"perfluorocarbons_pfcs_emissions_in_kilotonne_co2_equivalent\":'PFCs',\n",
        "\"sulphur_hexafluoride_sf6_emissions_in_kilotonne_co2_equivalent\":'SF6',\n",
        "\"unspecified_mix_of_hydrofluorocarbons_hfcs_and_perfluorocarbons_pfcs_emissions_in_kilotonne_co2_equivalent\":'HFC_Mix_PFC'\n",
        "}"
      ],
      "metadata": {
        "id": "5xDIZnCi-w6J"
      },
      "execution_count": 60,
      "outputs": []
    },
    {
      "cell_type": "code",
      "source": [
        "category_mappings.values()"
      ],
      "metadata": {
        "colab": {
          "base_uri": "https://localhost:8080/"
        },
        "id": "FKo49o6pBd__",
        "outputId": "e1da274f-f470-4795-f83c-bccc4cde1c08"
      },
      "execution_count": 62,
      "outputs": [
        {
          "output_type": "execute_result",
          "data": {
            "text/plain": [
              "dict_values(['CO2', 'GHG_Indirect_CO2', 'GHG', 'HFC', 'CH4', 'HF3', 'N2O', 'PFCs', 'SF6', 'HFC_Mix_PFC'])"
            ]
          },
          "metadata": {},
          "execution_count": 62
        }
      ]
    },
    {
      "cell_type": "code",
      "source": [
        "len(category_mappings.values())"
      ],
      "metadata": {
        "colab": {
          "base_uri": "https://localhost:8080/"
        },
        "id": "yord5EgnBfd7",
        "outputId": "4acca7e7-18a3-44e1-d22d-9b9e377a4070"
      },
      "execution_count": 63,
      "outputs": [
        {
          "output_type": "execute_result",
          "data": {
            "text/plain": [
              "10"
            ]
          },
          "metadata": {},
          "execution_count": 63
        }
      ]
    },
    {
      "cell_type": "code",
      "source": [
        "len(df[\"category\"].unique())"
      ],
      "metadata": {
        "colab": {
          "base_uri": "https://localhost:8080/"
        },
        "id": "g7AnHZJoBnS2",
        "outputId": "45ea7b96-6581-46e2-bf4f-366b8294717a"
      },
      "execution_count": 64,
      "outputs": [
        {
          "output_type": "execute_result",
          "data": {
            "text/plain": [
              "10"
            ]
          },
          "metadata": {},
          "execution_count": 64
        }
      ]
    },
    {
      "cell_type": "code",
      "source": [
        "df[\"short_category\"]=df[\"category\"].map(category_mappings)"
      ],
      "metadata": {
        "id": "ebS8LezsBuLe"
      },
      "execution_count": 67,
      "outputs": []
    },
    {
      "cell_type": "code",
      "source": [
        "df.head()"
      ],
      "metadata": {
        "colab": {
          "base_uri": "https://localhost:8080/",
          "height": 206
        },
        "id": "by7RdjHOB1bW",
        "outputId": "cbc9f5b5-b961-4ee3-e966-0424336a58ff"
      },
      "execution_count": 69,
      "outputs": [
        {
          "output_type": "execute_result",
          "data": {
            "text/html": [
              "\n",
              "  <div id=\"df-7c037583-52d4-4c20-abfb-918ba1156591\">\n",
              "    <div class=\"colab-df-container\">\n",
              "      <div>\n",
              "<style scoped>\n",
              "    .dataframe tbody tr th:only-of-type {\n",
              "        vertical-align: middle;\n",
              "    }\n",
              "\n",
              "    .dataframe tbody tr th {\n",
              "        vertical-align: top;\n",
              "    }\n",
              "\n",
              "    .dataframe thead th {\n",
              "        text-align: right;\n",
              "    }\n",
              "</style>\n",
              "<table border=\"1\" class=\"dataframe\">\n",
              "  <thead>\n",
              "    <tr style=\"text-align: right;\">\n",
              "      <th></th>\n",
              "      <th>country_or_area</th>\n",
              "      <th>year</th>\n",
              "      <th>value</th>\n",
              "      <th>category</th>\n",
              "      <th>short_category</th>\n",
              "    </tr>\n",
              "  </thead>\n",
              "  <tbody>\n",
              "    <tr>\n",
              "      <th>0</th>\n",
              "      <td>Australia</td>\n",
              "      <td>2014</td>\n",
              "      <td>393126.946994</td>\n",
              "      <td>carbon_dioxide_co2_emissions_without_land_use_...</td>\n",
              "      <td>CO2</td>\n",
              "    </tr>\n",
              "    <tr>\n",
              "      <th>1</th>\n",
              "      <td>Australia</td>\n",
              "      <td>2013</td>\n",
              "      <td>396913.936530</td>\n",
              "      <td>carbon_dioxide_co2_emissions_without_land_use_...</td>\n",
              "      <td>CO2</td>\n",
              "    </tr>\n",
              "    <tr>\n",
              "      <th>2</th>\n",
              "      <td>Australia</td>\n",
              "      <td>2012</td>\n",
              "      <td>406462.847704</td>\n",
              "      <td>carbon_dioxide_co2_emissions_without_land_use_...</td>\n",
              "      <td>CO2</td>\n",
              "    </tr>\n",
              "    <tr>\n",
              "      <th>3</th>\n",
              "      <td>Australia</td>\n",
              "      <td>2011</td>\n",
              "      <td>403705.528314</td>\n",
              "      <td>carbon_dioxide_co2_emissions_without_land_use_...</td>\n",
              "      <td>CO2</td>\n",
              "    </tr>\n",
              "    <tr>\n",
              "      <th>4</th>\n",
              "      <td>Australia</td>\n",
              "      <td>2010</td>\n",
              "      <td>406200.993184</td>\n",
              "      <td>carbon_dioxide_co2_emissions_without_land_use_...</td>\n",
              "      <td>CO2</td>\n",
              "    </tr>\n",
              "  </tbody>\n",
              "</table>\n",
              "</div>\n",
              "      <button class=\"colab-df-convert\" onclick=\"convertToInteractive('df-7c037583-52d4-4c20-abfb-918ba1156591')\"\n",
              "              title=\"Convert this dataframe to an interactive table.\"\n",
              "              style=\"display:none;\">\n",
              "        \n",
              "  <svg xmlns=\"http://www.w3.org/2000/svg\" height=\"24px\"viewBox=\"0 0 24 24\"\n",
              "       width=\"24px\">\n",
              "    <path d=\"M0 0h24v24H0V0z\" fill=\"none\"/>\n",
              "    <path d=\"M18.56 5.44l.94 2.06.94-2.06 2.06-.94-2.06-.94-.94-2.06-.94 2.06-2.06.94zm-11 1L8.5 8.5l.94-2.06 2.06-.94-2.06-.94L8.5 2.5l-.94 2.06-2.06.94zm10 10l.94 2.06.94-2.06 2.06-.94-2.06-.94-.94-2.06-.94 2.06-2.06.94z\"/><path d=\"M17.41 7.96l-1.37-1.37c-.4-.4-.92-.59-1.43-.59-.52 0-1.04.2-1.43.59L10.3 9.45l-7.72 7.72c-.78.78-.78 2.05 0 2.83L4 21.41c.39.39.9.59 1.41.59.51 0 1.02-.2 1.41-.59l7.78-7.78 2.81-2.81c.8-.78.8-2.07 0-2.86zM5.41 20L4 18.59l7.72-7.72 1.47 1.35L5.41 20z\"/>\n",
              "  </svg>\n",
              "      </button>\n",
              "      \n",
              "  <style>\n",
              "    .colab-df-container {\n",
              "      display:flex;\n",
              "      flex-wrap:wrap;\n",
              "      gap: 12px;\n",
              "    }\n",
              "\n",
              "    .colab-df-convert {\n",
              "      background-color: #E8F0FE;\n",
              "      border: none;\n",
              "      border-radius: 50%;\n",
              "      cursor: pointer;\n",
              "      display: none;\n",
              "      fill: #1967D2;\n",
              "      height: 32px;\n",
              "      padding: 0 0 0 0;\n",
              "      width: 32px;\n",
              "    }\n",
              "\n",
              "    .colab-df-convert:hover {\n",
              "      background-color: #E2EBFA;\n",
              "      box-shadow: 0px 1px 2px rgba(60, 64, 67, 0.3), 0px 1px 3px 1px rgba(60, 64, 67, 0.15);\n",
              "      fill: #174EA6;\n",
              "    }\n",
              "\n",
              "    [theme=dark] .colab-df-convert {\n",
              "      background-color: #3B4455;\n",
              "      fill: #D2E3FC;\n",
              "    }\n",
              "\n",
              "    [theme=dark] .colab-df-convert:hover {\n",
              "      background-color: #434B5C;\n",
              "      box-shadow: 0px 1px 3px 1px rgba(0, 0, 0, 0.15);\n",
              "      filter: drop-shadow(0px 1px 2px rgba(0, 0, 0, 0.3));\n",
              "      fill: #FFFFFF;\n",
              "    }\n",
              "  </style>\n",
              "\n",
              "      <script>\n",
              "        const buttonEl =\n",
              "          document.querySelector('#df-7c037583-52d4-4c20-abfb-918ba1156591 button.colab-df-convert');\n",
              "        buttonEl.style.display =\n",
              "          google.colab.kernel.accessAllowed ? 'block' : 'none';\n",
              "\n",
              "        async function convertToInteractive(key) {\n",
              "          const element = document.querySelector('#df-7c037583-52d4-4c20-abfb-918ba1156591');\n",
              "          const dataTable =\n",
              "            await google.colab.kernel.invokeFunction('convertToInteractive',\n",
              "                                                     [key], {});\n",
              "          if (!dataTable) return;\n",
              "\n",
              "          const docLinkHtml = 'Like what you see? Visit the ' +\n",
              "            '<a target=\"_blank\" href=https://colab.research.google.com/notebooks/data_table.ipynb>data table notebook</a>'\n",
              "            + ' to learn more about interactive tables.';\n",
              "          element.innerHTML = '';\n",
              "          dataTable['output_type'] = 'display_data';\n",
              "          await google.colab.output.renderOutput(dataTable, element);\n",
              "          const docLink = document.createElement('div');\n",
              "          docLink.innerHTML = docLinkHtml;\n",
              "          element.appendChild(docLink);\n",
              "        }\n",
              "      </script>\n",
              "    </div>\n",
              "  </div>\n",
              "  "
            ],
            "text/plain": [
              "  country_or_area  ...  short_category\n",
              "0       Australia  ...             CO2\n",
              "1       Australia  ...             CO2\n",
              "2       Australia  ...             CO2\n",
              "3       Australia  ...             CO2\n",
              "4       Australia  ...             CO2\n",
              "\n",
              "[5 rows x 5 columns]"
            ]
          },
          "metadata": {},
          "execution_count": 69
        }
      ]
    },
    {
      "cell_type": "code",
      "source": [
        "df.to_csv(\"Processed_GHG_Data.csv\")"
      ],
      "metadata": {
        "id": "CKBzF94ACBZx"
      },
      "execution_count": 70,
      "outputs": []
    },
    {
      "cell_type": "code",
      "source": [
        ""
      ],
      "metadata": {
        "id": "J63B6pZWCVq3"
      },
      "execution_count": null,
      "outputs": []
    }
  ]
}